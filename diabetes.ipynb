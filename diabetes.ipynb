{
 "cells": [
  {
   "cell_type": "code",
   "execution_count": 1,
   "id": "5ec80328",
   "metadata": {
    "scrolled": true
   },
   "outputs": [
    {
     "data": {
      "text/html": [
       "<div>\n",
       "<style scoped>\n",
       "    .dataframe tbody tr th:only-of-type {\n",
       "        vertical-align: middle;\n",
       "    }\n",
       "\n",
       "    .dataframe tbody tr th {\n",
       "        vertical-align: top;\n",
       "    }\n",
       "\n",
       "    .dataframe thead th {\n",
       "        text-align: right;\n",
       "    }\n",
       "</style>\n",
       "<table border=\"1\" class=\"dataframe\">\n",
       "  <thead>\n",
       "    <tr style=\"text-align: right;\">\n",
       "      <th></th>\n",
       "      <th>Pregnancies</th>\n",
       "      <th>Glucose</th>\n",
       "      <th>BloodPressure</th>\n",
       "      <th>SkinThickness</th>\n",
       "      <th>Insulin</th>\n",
       "      <th>BMI</th>\n",
       "      <th>DiabetesPedigreeFunction</th>\n",
       "      <th>Age</th>\n",
       "      <th>Outcome</th>\n",
       "    </tr>\n",
       "  </thead>\n",
       "  <tbody>\n",
       "    <tr>\n",
       "      <th>0</th>\n",
       "      <td>6</td>\n",
       "      <td>148</td>\n",
       "      <td>72</td>\n",
       "      <td>35</td>\n",
       "      <td>0</td>\n",
       "      <td>33.6</td>\n",
       "      <td>0.627</td>\n",
       "      <td>50</td>\n",
       "      <td>1</td>\n",
       "    </tr>\n",
       "    <tr>\n",
       "      <th>1</th>\n",
       "      <td>1</td>\n",
       "      <td>85</td>\n",
       "      <td>66</td>\n",
       "      <td>29</td>\n",
       "      <td>0</td>\n",
       "      <td>26.6</td>\n",
       "      <td>0.351</td>\n",
       "      <td>31</td>\n",
       "      <td>0</td>\n",
       "    </tr>\n",
       "    <tr>\n",
       "      <th>2</th>\n",
       "      <td>8</td>\n",
       "      <td>183</td>\n",
       "      <td>64</td>\n",
       "      <td>0</td>\n",
       "      <td>0</td>\n",
       "      <td>23.3</td>\n",
       "      <td>0.672</td>\n",
       "      <td>32</td>\n",
       "      <td>1</td>\n",
       "    </tr>\n",
       "    <tr>\n",
       "      <th>3</th>\n",
       "      <td>1</td>\n",
       "      <td>89</td>\n",
       "      <td>66</td>\n",
       "      <td>23</td>\n",
       "      <td>94</td>\n",
       "      <td>28.1</td>\n",
       "      <td>0.167</td>\n",
       "      <td>21</td>\n",
       "      <td>0</td>\n",
       "    </tr>\n",
       "    <tr>\n",
       "      <th>4</th>\n",
       "      <td>0</td>\n",
       "      <td>137</td>\n",
       "      <td>40</td>\n",
       "      <td>35</td>\n",
       "      <td>168</td>\n",
       "      <td>43.1</td>\n",
       "      <td>2.288</td>\n",
       "      <td>33</td>\n",
       "      <td>1</td>\n",
       "    </tr>\n",
       "  </tbody>\n",
       "</table>\n",
       "</div>"
      ],
      "text/plain": [
       "   Pregnancies  Glucose  BloodPressure  SkinThickness  Insulin   BMI  \\\n",
       "0            6      148             72             35        0  33.6   \n",
       "1            1       85             66             29        0  26.6   \n",
       "2            8      183             64              0        0  23.3   \n",
       "3            1       89             66             23       94  28.1   \n",
       "4            0      137             40             35      168  43.1   \n",
       "\n",
       "   DiabetesPedigreeFunction  Age  Outcome  \n",
       "0                     0.627   50        1  \n",
       "1                     0.351   31        0  \n",
       "2                     0.672   32        1  \n",
       "3                     0.167   21        0  \n",
       "4                     2.288   33        1  "
      ]
     },
     "execution_count": 1,
     "metadata": {},
     "output_type": "execute_result"
    }
   ],
   "source": [
    "import pandas as pd\n",
    "import matplotlib.pyplot as plt\n",
    "import seaborn as sns\n",
    "data = pd.read_csv('diabetes.csv')\n",
    "data.head()"
   ]
  },
  {
   "cell_type": "code",
   "execution_count": 2,
   "id": "3ba7b50c",
   "metadata": {},
   "outputs": [
    {
     "data": {
      "text/html": [
       "<div>\n",
       "<style scoped>\n",
       "    .dataframe tbody tr th:only-of-type {\n",
       "        vertical-align: middle;\n",
       "    }\n",
       "\n",
       "    .dataframe tbody tr th {\n",
       "        vertical-align: top;\n",
       "    }\n",
       "\n",
       "    .dataframe thead th {\n",
       "        text-align: right;\n",
       "    }\n",
       "</style>\n",
       "<table border=\"1\" class=\"dataframe\">\n",
       "  <thead>\n",
       "    <tr style=\"text-align: right;\">\n",
       "      <th></th>\n",
       "      <th>Pregnancies</th>\n",
       "      <th>Glucose</th>\n",
       "      <th>BloodPressure</th>\n",
       "      <th>SkinThickness</th>\n",
       "      <th>Insulin</th>\n",
       "      <th>BMI</th>\n",
       "      <th>DiabetesPedigreeFunction</th>\n",
       "      <th>Age</th>\n",
       "      <th>Outcome</th>\n",
       "    </tr>\n",
       "  </thead>\n",
       "  <tbody>\n",
       "    <tr>\n",
       "      <th>count</th>\n",
       "      <td>768.000000</td>\n",
       "      <td>768.000000</td>\n",
       "      <td>768.000000</td>\n",
       "      <td>768.000000</td>\n",
       "      <td>768.000000</td>\n",
       "      <td>768.000000</td>\n",
       "      <td>768.000000</td>\n",
       "      <td>768.000000</td>\n",
       "      <td>768.000000</td>\n",
       "    </tr>\n",
       "    <tr>\n",
       "      <th>mean</th>\n",
       "      <td>3.845052</td>\n",
       "      <td>120.894531</td>\n",
       "      <td>69.105469</td>\n",
       "      <td>20.536458</td>\n",
       "      <td>79.799479</td>\n",
       "      <td>31.992578</td>\n",
       "      <td>0.471876</td>\n",
       "      <td>33.240885</td>\n",
       "      <td>0.348958</td>\n",
       "    </tr>\n",
       "    <tr>\n",
       "      <th>std</th>\n",
       "      <td>3.369578</td>\n",
       "      <td>31.972618</td>\n",
       "      <td>19.355807</td>\n",
       "      <td>15.952218</td>\n",
       "      <td>115.244002</td>\n",
       "      <td>7.884160</td>\n",
       "      <td>0.331329</td>\n",
       "      <td>11.760232</td>\n",
       "      <td>0.476951</td>\n",
       "    </tr>\n",
       "    <tr>\n",
       "      <th>min</th>\n",
       "      <td>0.000000</td>\n",
       "      <td>0.000000</td>\n",
       "      <td>0.000000</td>\n",
       "      <td>0.000000</td>\n",
       "      <td>0.000000</td>\n",
       "      <td>0.000000</td>\n",
       "      <td>0.078000</td>\n",
       "      <td>21.000000</td>\n",
       "      <td>0.000000</td>\n",
       "    </tr>\n",
       "    <tr>\n",
       "      <th>25%</th>\n",
       "      <td>1.000000</td>\n",
       "      <td>99.000000</td>\n",
       "      <td>62.000000</td>\n",
       "      <td>0.000000</td>\n",
       "      <td>0.000000</td>\n",
       "      <td>27.300000</td>\n",
       "      <td>0.243750</td>\n",
       "      <td>24.000000</td>\n",
       "      <td>0.000000</td>\n",
       "    </tr>\n",
       "    <tr>\n",
       "      <th>50%</th>\n",
       "      <td>3.000000</td>\n",
       "      <td>117.000000</td>\n",
       "      <td>72.000000</td>\n",
       "      <td>23.000000</td>\n",
       "      <td>30.500000</td>\n",
       "      <td>32.000000</td>\n",
       "      <td>0.372500</td>\n",
       "      <td>29.000000</td>\n",
       "      <td>0.000000</td>\n",
       "    </tr>\n",
       "    <tr>\n",
       "      <th>75%</th>\n",
       "      <td>6.000000</td>\n",
       "      <td>140.250000</td>\n",
       "      <td>80.000000</td>\n",
       "      <td>32.000000</td>\n",
       "      <td>127.250000</td>\n",
       "      <td>36.600000</td>\n",
       "      <td>0.626250</td>\n",
       "      <td>41.000000</td>\n",
       "      <td>1.000000</td>\n",
       "    </tr>\n",
       "    <tr>\n",
       "      <th>max</th>\n",
       "      <td>17.000000</td>\n",
       "      <td>199.000000</td>\n",
       "      <td>122.000000</td>\n",
       "      <td>99.000000</td>\n",
       "      <td>846.000000</td>\n",
       "      <td>67.100000</td>\n",
       "      <td>2.420000</td>\n",
       "      <td>81.000000</td>\n",
       "      <td>1.000000</td>\n",
       "    </tr>\n",
       "  </tbody>\n",
       "</table>\n",
       "</div>"
      ],
      "text/plain": [
       "       Pregnancies     Glucose  BloodPressure  SkinThickness     Insulin  \\\n",
       "count   768.000000  768.000000     768.000000     768.000000  768.000000   \n",
       "mean      3.845052  120.894531      69.105469      20.536458   79.799479   \n",
       "std       3.369578   31.972618      19.355807      15.952218  115.244002   \n",
       "min       0.000000    0.000000       0.000000       0.000000    0.000000   \n",
       "25%       1.000000   99.000000      62.000000       0.000000    0.000000   \n",
       "50%       3.000000  117.000000      72.000000      23.000000   30.500000   \n",
       "75%       6.000000  140.250000      80.000000      32.000000  127.250000   \n",
       "max      17.000000  199.000000     122.000000      99.000000  846.000000   \n",
       "\n",
       "              BMI  DiabetesPedigreeFunction         Age     Outcome  \n",
       "count  768.000000                768.000000  768.000000  768.000000  \n",
       "mean    31.992578                  0.471876   33.240885    0.348958  \n",
       "std      7.884160                  0.331329   11.760232    0.476951  \n",
       "min      0.000000                  0.078000   21.000000    0.000000  \n",
       "25%     27.300000                  0.243750   24.000000    0.000000  \n",
       "50%     32.000000                  0.372500   29.000000    0.000000  \n",
       "75%     36.600000                  0.626250   41.000000    1.000000  \n",
       "max     67.100000                  2.420000   81.000000    1.000000  "
      ]
     },
     "execution_count": 2,
     "metadata": {},
     "output_type": "execute_result"
    }
   ],
   "source": [
    "data.describe()"
   ]
  },
  {
   "cell_type": "code",
   "execution_count": 3,
   "id": "43a0b5f1",
   "metadata": {},
   "outputs": [
    {
     "data": {
      "text/plain": [
       "<AxesSubplot:>"
      ]
     },
     "execution_count": 3,
     "metadata": {},
     "output_type": "execute_result"
    },
    {
     "data": {
      "image/png": "[encoded data removed]",
      "text/plain": [
       "<Figure size 1500x1000 with 2 Axes>"
      ]
     },
     "metadata": {},
     "output_type": "display_data"
    }
   ],
   "source": [
    "corr = data.corr()\n",
    "plt.figure(figsize=(15,10))\n",
    "sns.heatmap(corr, annot=True)"
   ]
  },
  {
   "cell_type": "code",
   "execution_count": 4,
   "id": "31a1a4a2",
   "metadata": {},
   "outputs": [
    {
     "data": {
      "text/plain": [
       "Pregnancies                 0\n",
       "Glucose                     0\n",
       "BloodPressure               0\n",
       "SkinThickness               0\n",
       "Insulin                     0\n",
       "BMI                         0\n",
       "DiabetesPedigreeFunction    0\n",
       "Age                         0\n",
       "Outcome                     0\n",
       "dtype: int64"
      ]
     },
     "execution_count": 4,
     "metadata": {},
     "output_type": "execute_result"
    }
   ],
   "source": [
    "data.isna().sum()"
   ]
  },
  {
   "cell_type": "code",
   "execution_count": 5,
   "id": "e23761da",
   "metadata": {},
   "outputs": [
    {
     "data": {
      "text/plain": [
       "(768, 9)"
      ]
     },
     "execution_count": 5,
     "metadata": {},
     "output_type": "execute_result"
    }
   ],
   "source": [
    "data.shape"
   ]
  },
  {
   "cell_type": "code",
   "execution_count": 6,
   "id": "11fae968",
   "metadata": {},
   "outputs": [
    {
     "data": {
      "text/plain": [
       "Index(['Pregnancies', 'Glucose', 'BloodPressure', 'SkinThickness', 'Insulin',\n",
       "       'BMI', 'DiabetesPedigreeFunction', 'Age', 'Outcome'],\n",
       "      dtype='object')"
      ]
     },
     "execution_count": 6,
     "metadata": {},
     "output_type": "execute_result"
    }
   ],
   "source": [
    "data.columns"
   ]
  },
  {
   "cell_type": "code",
   "execution_count": 7,
   "id": "dcc73282",
   "metadata": {},
   "outputs": [],
   "source": [
    "import numpy as np\n",
    "zero_not_accepted = ['Glucose','BloodPressure','SkinThickness','BMI','Insulin']\n",
    "# for col in zero_not_accepted:\n",
    "#     for i in data[col]:\n",
    "#         if i==0:\n",
    "#             colSum = sum(data[col])\n",
    "#             meanCol=colSum/len(data[col])\n",
    "#             data[col]=meanCol\n",
    "\n",
    "for col in zero_not_accepted:\n",
    "    data[col]= data[col].replace(0,np.NaN)\n",
    "    mean = int(data[col].mean(skipna=True))\n",
    "    data[col] = data[col].replace(np.NaN,mean)"
   ]
  },
  {
   "cell_type": "code",
   "execution_count": 8,
   "id": "678c539e",
   "metadata": {},
   "outputs": [
    {
     "name": "stdout",
     "output_type": "stream",
     "text": [
      "0      1\n",
      "1      0\n",
      "2      1\n",
      "3      0\n",
      "4      1\n",
      "      ..\n",
      "763    0\n",
      "764    0\n",
      "765    0\n",
      "766    1\n",
      "767    0\n",
      "Name: Outcome, Length: 768, dtype: int64\n"
     ]
    },
    {
     "name": "stderr",
     "output_type": "stream",
     "text": [
      "C:\\Users\\srini\\AppData\\Local\\Temp\\ipykernel_13176\\2531324268.py:1: FutureWarning: In a future version of pandas all arguments of DataFrame.drop except for the argument 'labels' will be keyword-only.\n",
      "  inputs = data.drop(['BloodPressure', 'SkinThickness', 'Outcome'], 'columns')\n"
     ]
    }
   ],
   "source": [
    "\n",
    "\n",
    "\n",
    "inputs = data.drop(['BloodPressure', 'SkinThickness', 'Outcome'], 'columns')\n",
    "outputs =  data['Outcome']\n",
    "\n",
    "print(outputs)"
   ]
  },
  {
   "cell_type": "code",
   "execution_count": 9,
   "id": "75771577",
   "metadata": {},
   "outputs": [],
   "source": [
    "from sklearn.model_selection import train_test_split\n",
    "\n",
    "x_train,x_test,y_train,y_test = train_test_split(inputs,outputs,test_size=0.2,random_state=0)"
   ]
  },
  {
   "cell_type": "code",
   "execution_count": 10,
   "id": "9a0e5f6e",
   "metadata": {},
   "outputs": [
    {
     "name": "stdout",
     "output_type": "stream",
     "text": [
      "0.7857142857142857\n"
     ]
    }
   ],
   "source": [
    "from sklearn.neighbors import KNeighborsClassifier\n",
    "model=KNeighborsClassifier(n_neighbors=27)\n",
    "\n",
    "model.fit(x_train,y_train)\n",
    "y_pred=model.predict(x_test)\n",
    "\n",
    "from sklearn.metrics import confusion_matrix,r2_score,accuracy_score\n",
    "\n",
    "\n",
    "\n",
    "\n",
    "print(accuracy_score(y_test,y_pred))\n",
    "\n",
    "#res=model.predict([[1,89,60,23,94,28.1,0.167,21]])\n",
    "#print(res)"
   ]
  },
  {
   "cell_type": "code",
   "execution_count": 11,
   "id": "30b227b3",
   "metadata": {},
   "outputs": [
    {
     "data": {
      "text/plain": [
       "array([1, 0, 0, 1, 0, 0, 1, 1, 0, 0, 0, 1, 0, 0, 0, 0, 1, 0, 0, 0, 1, 0,\n",
       "       0, 0, 0, 0, 0, 1, 0, 0, 1, 0, 0, 0, 0, 1, 1, 0, 0, 0, 0, 0, 0, 1,\n",
       "       1, 0, 0, 0, 0, 1, 1, 0, 1, 1, 0, 0, 0, 0, 0, 0, 1, 1, 0, 0, 1, 1,\n",
       "       1, 1, 1, 0, 0, 0, 0, 1, 1, 0, 0, 1, 0, 0, 1, 0, 0, 0, 0, 0, 0, 0,\n",
       "       1, 0, 0, 0, 0, 0, 0, 0, 0, 1, 0, 1, 0, 0, 0, 0, 0, 0, 0, 0, 0, 1,\n",
       "       0, 1, 1, 0, 1, 1, 0, 1, 0, 1, 1, 0, 0, 0, 0, 0, 1, 1, 1, 1, 0, 0,\n",
       "       0, 1, 0, 1, 0, 0, 0, 0, 0, 1, 0, 0, 1, 0, 0, 0, 0, 0, 0, 1, 0, 0],\n",
       "      dtype=int64)"
      ]
     },
     "execution_count": 11,
     "metadata": {},
     "output_type": "execute_result"
    }
   ],
   "source": [
    "y_pred"
   ]
  },
  {
   "cell_type": "code",
   "execution_count": null,
   "id": "813bdfb9",
   "metadata": {},
   "outputs": [
    {
     "name": "stderr",
     "output_type": "stream",
     "text": [
      "C:\\Users\\srini\\anaconda3\\lib\\site-packages\\sklearn\\base.py:450: UserWarning: X does not have valid feature names, but KNeighborsClassifier was fitted with feature names\n",
      "  warnings.warn(\n",
      "C:\\Users\\srini\\anaconda3\\lib\\site-packages\\sklearn\\base.py:566: FutureWarning: Arrays of bytes/strings is being converted to decimal numbers if dtype='numeric'. This behavior is deprecated in 0.24 and will be removed in 1.1 (renaming of 0.26). Please convert your data to numeric values explicitly instead.\n",
      "  X = check_array(X, **check_params)\n"
     ]
    },
    {
     "name": "stdout",
     "output_type": "stream",
     "text": [
      "[0]\n"
     ]
    },
    {
     "name": "stderr",
     "output_type": "stream",
     "text": [
      "C:\\Users\\srini\\anaconda3\\lib\\site-packages\\sklearn\\base.py:450: UserWarning: X does not have valid feature names, but KNeighborsClassifier was fitted with feature names\n",
      "  warnings.warn(\n",
      "C:\\Users\\srini\\anaconda3\\lib\\site-packages\\sklearn\\base.py:566: FutureWarning: Arrays of bytes/strings is being converted to decimal numbers if dtype='numeric'. This behavior is deprecated in 0.24 and will be removed in 1.1 (renaming of 0.26). Please convert your data to numeric values explicitly instead.\n",
      "  X = check_array(X, **check_params)\n"
     ]
    },
    {
     "name": "stdout",
     "output_type": "stream",
     "text": [
      "[0]\n"
     ]
    },
    {
     "name": "stderr",
     "output_type": "stream",
     "text": [
      "C:\\Users\\srini\\anaconda3\\lib\\site-packages\\sklearn\\base.py:450: UserWarning: X does not have valid feature names, but KNeighborsClassifier was fitted with feature names\n",
      "  warnings.warn(\n",
      "C:\\Users\\srini\\anaconda3\\lib\\site-packages\\sklearn\\base.py:566: FutureWarning: Arrays of bytes/strings is being converted to decimal numbers if dtype='numeric'. This behavior is deprecated in 0.24 and will be removed in 1.1 (renaming of 0.26). Please convert your data to numeric values explicitly instead.\n",
      "  X = check_array(X, **check_params)\n"
     ]
    },
    {
     "name": "stdout",
     "output_type": "stream",
     "text": [
      "[0]\n"
     ]
    }
   ],
   "source": [
    "# -*- coding: utf-8 -*-\n",
    "\n",
    "# Form implementation generated from reading ui file 'diabetes.ui'\n",
    "#\n",
    "# Created by: PyQt5 UI code generator 5.15.4\n",
    "#\n",
    "# WARNING: Any manual changes made to this file will be lost when pyuic5 is\n",
    "# run again.  Do not edit this file unless you know what you are doing.\n",
    "\n",
    "\n",
    "from PyQt5 import QtCore, QtGui, QtWidgets\n",
    "\n",
    "\n",
    "class Ui_Form(object):\n",
    "    def setupUi(self, Form):\n",
    "        Form.setObjectName(\"Form\")\n",
    "        Form.resize(820, 822)\n",
    "        self.widget = QtWidgets.QWidget(Form)\n",
    "        self.widget.setGeometry(QtCore.QRect(0, 0, 821, 881))\n",
    "        self.widget.setStyleSheet(\"QWidget#widget{\\n\"\n",
    "\"background-color:qradialgradient(spread:pad, cx:0.5, cy:0.5, radius:1.521, fx:0.495, fy:0.506, stop:0 rgba(252, 246, 189, 255), stop:1 rgba(255, 255, 255, 255))\\n\"\n",
    "\"\\n\"\n",
    "\"}\\n\"\n",
    "\"\")\n",
    "        self.widget.setObjectName(\"widget\")\n",
    "        self.label = QtWidgets.QLabel(self.widget)\n",
    "        self.label.setGeometry(QtCore.QRect(230, 20, 521, 61))\n",
    "        self.label.setStyleSheet(\"font: 75 26pt \\\"MS Shell Dlg 2\\\";\\n\"\n",
    "\"color:rgb(67, 40, 24)\")\n",
    "        self.label.setObjectName(\"label\")\n",
    "        self.widget_2 = QtWidgets.QWidget(self.widget)\n",
    "        self.widget_2.setGeometry(QtCore.QRect(80, 110, 671, 571))\n",
    "        self.widget_2.setStyleSheet(\"QWidget#widget_2{background-color:qradialgradient(spread:pad, cx:0.5, cy:0.5, radius:1.521, fx:0.495, fy:0.506, stop:0 rgba(67, 40, 24, 255), stop:1 rgba(255, 255, 255, 255));\\n\"\n",
    "\"border-radius:20%;\\n\"\n",
    "\" backdrop-filter: blur(4px);\\n\"\n",
    "\"box-shadow: 0 0 20px #000;\\n\"\n",
    "\"transition: 0.4s all;\\n\"\n",
    "\"}\\n\"\n",
    "\"qradialgradient(spread:pad, cx:0.5, cy:0.5, radius:1.521, fx:0.495, fy:0.506, stop:0 rgba(0, 48, 73, 255), stop:1 rgba(255, 255, 255, 255))\")\n",
    "        self.widget_2.setObjectName(\"widget_2\")\n",
    "        self.label_2 = QtWidgets.QLabel(self.widget_2)\n",
    "        self.label_2.setGeometry(QtCore.QRect(50, 30, 351, 41))\n",
    "        self.label_2.setStyleSheet(\"color:rgb(255, 255, 255);\\n\"\n",
    "\"font: 13pt \\\"MS Shell Dlg 2\\\";\")\n",
    "        self.label_2.setObjectName(\"label_2\")\n",
    "        self.label_3 = QtWidgets.QLabel(self.widget_2)\n",
    "        self.label_3.setGeometry(QtCore.QRect(160, 90, 131, 31))\n",
    "        self.label_3.setStyleSheet(\"color:rgb(255, 255, 255);\\n\"\n",
    "\"font: 13pt \\\"MS Shell Dlg 2\\\";\")\n",
    "        self.label_3.setObjectName(\"label_3\")\n",
    "        self.label_4 = QtWidgets.QLabel(self.widget_2)\n",
    "        self.label_4.setGeometry(QtCore.QRect(160, 190, 151, 31))\n",
    "        self.label_4.setStyleSheet(\"color:rgb(255, 255, 255);\\n\"\n",
    "\"font: 13pt \\\"MS Shell Dlg 2\\\";\")\n",
    "        self.label_4.setObjectName(\"label_4\")\n",
    "        self.label_5 = QtWidgets.QLabel(self.widget_2)\n",
    "        self.label_5.setGeometry(QtCore.QRect(160, 140, 151, 31))\n",
    "        self.label_5.setStyleSheet(\"color:rgb(255, 255, 255);\\n\"\n",
    "\"font: 13pt \\\"MS Shell Dlg 2\\\";\")\n",
    "        self.label_5.setObjectName(\"label_5\")\n",
    "        self.label_6 = QtWidgets.QLabel(self.widget_2)\n",
    "        self.label_6.setGeometry(QtCore.QRect(160, 240, 151, 31))\n",
    "        self.label_6.setStyleSheet(\"color:rgb(255, 255, 255);\\n\"\n",
    "\"font: 13pt \\\"MS Shell Dlg 2\\\";\")\n",
    "        self.label_6.setObjectName(\"label_6\")\n",
    "        self.label_7 = QtWidgets.QLabel(self.widget_2)\n",
    "        self.label_7.setGeometry(QtCore.QRect(160, 290, 131, 31))\n",
    "        self.label_7.setStyleSheet(\"color:rgb(255, 255, 255);\\n\"\n",
    "\"font: 13pt \\\"MS Shell Dlg 2\\\";\")\n",
    "        self.label_7.setObjectName(\"label_7\")\n",
    "        self.label_8 = QtWidgets.QLabel(self.widget_2)\n",
    "        self.label_8.setGeometry(QtCore.QRect(160, 340, 311, 31))\n",
    "        self.label_8.setStyleSheet(\"color:rgb(255, 255, 255);\\n\"\n",
    "\"font: 13pt \\\"MS Shell Dlg 2\\\";\")\n",
    "        self.label_8.setObjectName(\"label_8\")\n",
    "        self.label_9 = QtWidgets.QLabel(self.widget_2)\n",
    "        self.label_9.setGeometry(QtCore.QRect(160, 390, 131, 31))\n",
    "        self.label_9.setStyleSheet(\"color:rgb(255, 255, 255);\\n\"\n",
    "\"font: 13pt \\\"MS Shell Dlg 2\\\";\")\n",
    "        self.label_9.setObjectName(\"label_9\")\n",
    "        self.glucose = QtWidgets.QLineEdit(self.widget_2)\n",
    "        self.glucose.setGeometry(QtCore.QRect(340, 90, 131, 31))\n",
    "        self.glucose.setObjectName(\"glucose\")\n",
    "        self.blood = QtWidgets.QLineEdit(self.widget_2)\n",
    "        self.blood.setGeometry(QtCore.QRect(340, 140, 131, 31))\n",
    "        self.blood.setObjectName(\"blood\")\n",
    "        self.insulin = QtWidgets.QLineEdit(self.widget_2)\n",
    "        self.insulin.setGeometry(QtCore.QRect(340, 240, 131, 31))\n",
    "        self.insulin.setObjectName(\"insulin\")\n",
    "        self.skin = QtWidgets.QLineEdit(self.widget_2)\n",
    "        self.skin.setGeometry(QtCore.QRect(340, 190, 131, 31))\n",
    "        self.skin.setObjectName(\"skin\")\n",
    "        self.bmi = QtWidgets.QLineEdit(self.widget_2)\n",
    "        self.bmi.setGeometry(QtCore.QRect(340, 290, 131, 31))\n",
    "        self.bmi.setObjectName(\"bmi\")\n",
    "        self.pedfunc = QtWidgets.QLineEdit(self.widget_2)\n",
    "        self.pedfunc.setGeometry(QtCore.QRect(340, 340, 131, 31))\n",
    "        self.pedfunc.setObjectName(\"pedfunc\")\n",
    "        self.age = QtWidgets.QLineEdit(self.widget_2)\n",
    "        self.age.setGeometry(QtCore.QRect(340, 390, 131, 31))\n",
    "        self.age.setObjectName(\"age\")\n",
    "        self.pushButton = QtWidgets.QPushButton(self.widget_2)\n",
    "        self.pushButton.setGeometry(QtCore.QRect(270, 480, 111, 31))\n",
    "        self.pushButton.setStyleSheet(\"\\n\"\n",
    "\"background-color: rgb(170, 255, 255);\\n\"\n",
    "\"font: 12pt \\\"MS Shell Dlg 2\\\";\")\n",
    "        self.pushButton.setObjectName(\"pushButton\")\n",
    "        self.preg = QtWidgets.QLineEdit(self.widget_2)\n",
    "        self.preg.setGeometry(QtCore.QRect(340, 40, 131, 31))\n",
    "        self.preg.setObjectName(\"preg\")\n",
    "        self.result = QtWidgets.QLabel(self.widget)\n",
    "        self.result.setGeometry(QtCore.QRect(110, 700, 241, 51))\n",
    "        self.result.setStyleSheet(\"font: 75 16pt \\\"MS Shell Dlg 2\\\";\\n\"\n",
    "\"color:rgb(214, 40, 40)\")\n",
    "        self.result.setObjectName(\"result\")\n",
    "        self.myans = QtWidgets.QLabel(self.widget)\n",
    "        self.myans.setGeometry(QtCore.QRect(370, 710, 181, 41))\n",
    "        self.myans.setStyleSheet(\"font: 75 16pt \\\"MS Shell Dlg 2\\\";\\n\"\n",
    "\"color:rgb(214, 40, 40)\")\n",
    "        self.myans.setText(\"\")\n",
    "        self.myans.setObjectName(\"myans\")\n",
    "        \n",
    "        self.pushButton.clicked.connect(self.predict)\n",
    "        \n",
    "        \n",
    "\n",
    "        self.retranslateUi(Form)\n",
    "        QtCore.QMetaObject.connectSlotsByName(Form)\n",
    "        \n",
    "    def predict(self):\n",
    "        a=self.preg.text()\n",
    "        a1=int(a)\n",
    "        b=self.glucose.text()\n",
    "        b1=int(b)\n",
    "        c=self.blood.text()\n",
    "        c1=int(c)\n",
    "        d=self.skin.text()\n",
    "        d1=int(d)\n",
    "        e=self.insulin.text()\n",
    "        e1=int(e)\n",
    "        f=self.bmi.text()\n",
    "        f1=float(f)\n",
    "        g=self.pedfunc.text()\n",
    "        g1=float(g)\n",
    "        h=self.age.text()\n",
    "        h1=int(h)\n",
    "            \n",
    "            \n",
    "        res=model.predict([[a,b,e,f,g,h]])\n",
    "            \n",
    "        if res == 0:\n",
    "            self.result.setText('No')\n",
    "        elif res == 1:\n",
    "            self.result.setText('Yes')\n",
    "        print(res)\n",
    "        self.myans.setText(str(res))\n",
    "\n",
    "    def retranslateUi(self, Form):\n",
    "        _translate = QtCore.QCoreApplication.translate\n",
    "        Form.setWindowTitle(_translate(\"Form\", \"Form\"))\n",
    "        self.label.setText(_translate(\"Form\", \"Diabetes Prediction\"))\n",
    "        self.label_2.setText(_translate(\"Form\", \"<html><head/><body><p align=\\\"center\\\">Pregnancies:</p></body></html>\"))\n",
    "        self.label_3.setText(_translate(\"Form\", \"Glucose:\"))\n",
    "        self.label_4.setText(_translate(\"Form\", \"SkinThickness:\"))\n",
    "        self.label_5.setText(_translate(\"Form\", \"BloodPressure:    \"))\n",
    "        self.label_6.setText(_translate(\"Form\", \"Insulin\"))\n",
    "        self.label_7.setText(_translate(\"Form\", \"BMI\"))\n",
    "        self.label_8.setText(_translate(\"Form\", \"PedigreeFunction:\"))\n",
    "        self.label_9.setText(_translate(\"Form\", \"Age:\"))\n",
    "        self.pushButton.setText(_translate(\"Form\", \"Predict\"))\n",
    "        self.result.setText(_translate(\"Form\", \"Result of Prediction:\"))\n",
    "\n",
    "\n",
    "if __name__ == \"__main__\":\n",
    "    import sys\n",
    "    app = QtWidgets.QApplication(sys.argv)\n",
    "    Form = QtWidgets.QWidget()\n",
    "    ui = Ui_Form()\n",
    "    ui.setupUi(Form)\n",
    "    Form.show()\n",
    "    sys.exit(app.exec_())\n"
   ]
  }
 ],
 "metadata": {
  "kernelspec": {
   "display_name": "Python 3 (ipykernel)",
   "language": "python",
   "name": "python3"
  },
  "language_info": {
   "codemirror_mode": {
    "name": "ipython",
    "version": 3
   },
   "file_extension": ".py",
   "mimetype": "text/x-python",
   "name": "python",
   "nbconvert_exporter": "python",
   "pygments_lexer": "ipython3",
   "version": "3.9.12"
  }
 },
 "nbformat": 4,
 "nbformat_minor": 5
}
